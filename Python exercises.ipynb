{
 "cells": [
  {
   "cell_type": "code",
   "execution_count": 369,
   "metadata": {},
   "outputs": [
    {
     "name": "stdout",
     "output_type": "stream",
     "text": [
      "hello world\n"
     ]
    }
   ],
   "source": [
    "print (\"hello world\")"
   ]
  },
  {
   "cell_type": "code",
   "execution_count": 370,
   "metadata": {},
   "outputs": [
    {
     "data": {
      "text/plain": [
       "'pete'"
      ]
     },
     "execution_count": 370,
     "metadata": {},
     "output_type": "execute_result"
    }
   ],
   "source": [
    "my_name = \"pete\"\n",
    "my_name"
   ]
  },
  {
   "cell_type": "code",
   "execution_count": 371,
   "metadata": {},
   "outputs": [
    {
     "data": {
      "text/plain": [
       "'pete'"
      ]
     },
     "execution_count": 371,
     "metadata": {},
     "output_type": "execute_result"
    }
   ],
   "source": [
    "my_name"
   ]
  },
  {
   "cell_type": "code",
   "execution_count": 372,
   "metadata": {},
   "outputs": [
    {
     "data": {
      "text/plain": [
       "36"
      ]
     },
     "execution_count": 372,
     "metadata": {},
     "output_type": "execute_result"
    }
   ],
   "source": [
    "my_age = 36\n",
    "my_age"
   ]
  },
  {
   "cell_type": "code",
   "execution_count": 373,
   "metadata": {},
   "outputs": [
    {
     "data": {
      "text/plain": [
       "-3"
      ]
     },
     "execution_count": 373,
     "metadata": {},
     "output_type": "execute_result"
    }
   ],
   "source": [
    "julia_age = 39\n",
    "age_diff = my_age - julia_age\n",
    "age_diff"
   ]
  },
  {
   "cell_type": "code",
   "execution_count": 374,
   "metadata": {},
   "outputs": [
    {
     "name": "stdout",
     "output_type": "stream",
     "text": [
      "You are not older\n"
     ]
    }
   ],
   "source": [
    "if my_age > 39:\n",
    "    print(\"You are older\")\n",
    "else:\n",
    "    print (\"You are not older\")"
   ]
  },
  {
   "cell_type": "code",
   "execution_count": 375,
   "metadata": {},
   "outputs": [
    {
     "name": "stdout",
     "output_type": "stream",
     "text": [
      "Julia is older than you\n"
     ]
    }
   ],
   "source": [
    "if my_age > julia_age:\n",
    "    print(\"Julia is younger than you\")\n",
    "elif my_age == julia_age:\n",
    "    print(\"You have the same age as Julia\")\n",
    "elif my_age < julia_age:\n",
    "    print(\"Julia is older than you\")"
   ]
  },
  {
   "cell_type": "code",
   "execution_count": 376,
   "metadata": {},
   "outputs": [
    {
     "name": "stdout",
     "output_type": "stream",
     "text": [
      "pete 36 39\n"
     ]
    }
   ],
   "source": [
    "print(my_name, my_age, julia_age)"
   ]
  },
  {
   "cell_type": "code",
   "execution_count": 377,
   "metadata": {},
   "outputs": [
    {
     "name": "stdout",
     "output_type": "stream",
     "text": [
      "40 60\n"
     ]
    }
   ],
   "source": [
    "X = 20\n",
    "20+X\n",
    "Y= 20+X\n",
    "print (Y, Y+X)\n"
   ]
  },
  {
   "cell_type": "code",
   "execution_count": 378,
   "metadata": {},
   "outputs": [
    {
     "name": "stdout",
     "output_type": "stream",
     "text": [
      "Your colour is in the rainbow\n"
     ]
    }
   ],
   "source": [
    "rainbow =['red', 'orange', 'yellow', 'green', 'blue', 'indigo', 'violet']\n",
    "colour = input(\"Type colour in rainbow\")\n",
    "while colour in rainbow:\n",
    "    print(\"Your colour is in the rainbow\")\n",
    "    break\n",
    "else:\n",
    "        print(\"Your colour is not in the rainbow\")\n"
   ]
  },
  {
   "cell_type": "code",
   "execution_count": 379,
   "metadata": {},
   "outputs": [
    {
     "name": "stdout",
     "output_type": "stream",
     "text": [
      "Alberto\n",
      "Virginia\n",
      "Alberto\n",
      "Emily\n",
      "Jan\n",
      "Jost\n",
      "Killian\n",
      "Linh\n",
      "Phillip\n",
      "Virginia\n",
      "L\n",
      "i\n",
      "n\n",
      "h\n"
     ]
    }
   ],
   "source": [
    "List_of_my_class_members = [\"Alberto\", 'Killian', 'Emily', 'Jost', 'Linh', 'Phillip', 'Virginia', 'Jan']\n",
    "List_of_my_class_members.sort()\n",
    "print(List_of_my_class_members[0])\n",
    "print(List_of_my_class_members[-1])\n",
    "for name in List_of_my_class_members:\n",
    "    print(name)\n",
    "for letter in List_of_my_class_members[5]:\n",
    "    print(letter)\n"
   ]
  },
  {
   "cell_type": "code",
   "execution_count": 380,
   "metadata": {},
   "outputs": [
    {
     "name": "stdout",
     "output_type": "stream",
     "text": [
      "36\n",
      "29\n",
      "25\n",
      "34\n",
      "32\n",
      "26\n",
      "30\n",
      "33\n",
      "36\n",
      "34\n",
      "32\n",
      "26\n",
      "30\n"
     ]
    }
   ],
   "source": [
    "My_class_members_age = [my_age, 29, 25, 34, 32, 26, 30, 33]\n",
    "for age in My_class_members_age:\n",
    "    print(age)\n",
    "for even_number in My_class_members_age:\n",
    "    if even_number % 2 == 0:\n",
    "        print(even_number)"
   ]
  },
  {
   "cell_type": "code",
   "execution_count": 381,
   "metadata": {},
   "outputs": [
    {
     "name": "stdout",
     "output_type": "stream",
     "text": [
      "36 is an even number\n",
      "29 is not an even number\n",
      "25 is not an even number\n",
      "34 is an even number\n",
      "32 is an even number\n",
      "26 is an even number\n",
      "30 is an even number\n",
      "33 is not an even number\n"
     ]
    },
    {
     "data": {
      "text/plain": [
       "[29, 25, 34]"
      ]
     },
     "execution_count": 381,
     "metadata": {},
     "output_type": "execute_result"
    }
   ],
   "source": [
    "# Exercise 7  - copy paste from the internet\n",
    "    # list of ages and definition of variable \n",
    "My_class_age = [36, 29, 25, 34, 32, 26, 30, 33]\n",
    "counter = 0\n",
    "\n",
    "# using the while loop\n",
    "while counter < len(My_class_age):\n",
    "    if My_class_age[counter] % 2 == 0:\n",
    "        print (My_class_age[counter], \"is an even number\")\n",
    "    else:\n",
    "        print(My_class_age[counter],\"is not an even number\")\n",
    "    counter += 1\n",
    "\n",
    "\n",
    "My_class_age[1:4]"
   ]
  },
  {
   "cell_type": "code",
   "execution_count": 382,
   "metadata": {},
   "outputs": [
    {
     "data": {
      "text/plain": [
       "25"
      ]
     },
     "execution_count": 382,
     "metadata": {},
     "output_type": "execute_result"
    }
   ],
   "source": [
    "#Exercise 8\n",
    "My_class_age\n",
    "min(My_class_age) "
   ]
  },
  {
   "cell_type": "code",
   "execution_count": 383,
   "metadata": {},
   "outputs": [
    {
     "data": {
      "text/plain": [
       "36"
      ]
     },
     "execution_count": 383,
     "metadata": {},
     "output_type": "execute_result"
    }
   ],
   "source": [
    "#Exercise 9\n",
    "max(My_class_age) "
   ]
  },
  {
   "cell_type": "code",
   "execution_count": 384,
   "metadata": {},
   "outputs": [
    {
     "name": "stdout",
     "output_type": "stream",
     "text": [
      "2022\n",
      "23\n",
      "27\n",
      "17\n",
      "12\n",
      "15\n",
      "16\n",
      "28\n",
      "26\n",
      "43\n",
      "14\n"
     ]
    }
   ],
   "source": [
    "#Exercise 10\n",
    "\n",
    "# Let's import today's year\n",
    "import datetime\n",
    "today = datetime.datetime.now()\n",
    "print (today.year)\n",
    "\n",
    "# the birth year of our customers\n",
    "YoBirth = [1999, 1995, 2005, 2010, 2007, 2006, 1994, 1996, 1979, 2008] \n",
    "\n",
    "# Now we calculate their ages\n",
    "for age in YoBirth:\n",
    "    print(today.year - age)\n"
   ]
  },
  {
   "cell_type": "code",
   "execution_count": 385,
   "metadata": {},
   "outputs": [
    {
     "name": "stdout",
     "output_type": "stream",
     "text": [
      "Bob is 23\n",
      "Jack is 27\n",
      "Lisa is 17\n",
      "Maria is 12\n",
      "Ben is 15\n",
      "Emma is 16\n",
      "Oscar is 28\n",
      "Amy is 26\n",
      "Paul is 43\n",
      "Etta is 14\n"
     ]
    }
   ],
   "source": [
    "# Exercise 11 - print the name and age of each customer\n",
    "\n",
    "#let's import datetime\n",
    "from datetime import datetime\n",
    "this_year = datetime.now().year\n",
    "\n",
    "# Let's import the list of customers\n",
    "customer_list = [\n",
    "                    {\"name\": \"Bob\", \"age\": 1999},\n",
    "                    {\"name\": \"Jack\", \"age\": 1995},\n",
    "                    {\"name\": \"Lisa\", \"age\": 2005},\n",
    "                    {\"name\": \"Maria\", \"age\": 2010},\n",
    "                    {\"name\": \"Ben\", \"age\": 2007},\n",
    "                    {\"name\": \"Emma\", \"age\": 2006},\n",
    "                    {\"name\": \"Oscar\", \"age\": 1994},\n",
    "                    {\"name\": \"Amy\", \"age\": 1996},\n",
    "                    {\"name\": \"Paul\", \"age\": 1979},\n",
    "                    {\"name\": \"Etta\", \"age\": 2008}\n",
    "                ]\n",
    "\n",
    "# Let's iterate\n",
    "for customer in customer_list:\n",
    "   print(customer[\"name\"], \"is\", this_year - customer[\"age\"])\n"
   ]
  },
  {
   "cell_type": "code",
   "execution_count": 386,
   "metadata": {},
   "outputs": [
    {
     "name": "stdout",
     "output_type": "stream",
     "text": [
      "[9, 11, 12, 13, 14, 20, 23, 24, 25, 40]\n",
      "[11, 12, 13, 14, 20, 23, 24, 25]\n"
     ]
    }
   ],
   "source": [
    "# Exercise 12 - remove youngest and oldest age from list\n",
    "ages = [20, 24, 14, 9, 12, 13, 25, 23, 40, 11]\n",
    "\n",
    "# we try methods for reals. 1st, we sort. then we remove first and last with pop method\n",
    "ages.sort()\n",
    "print(ages) #just checking the sorting order\n",
    "\n",
    "ages.pop(0) #remove the first number\n",
    "ages.pop()  #remove the last number\n",
    "print(ages)\n",
    "\n",
    "\n",
    "\n"
   ]
  },
  {
   "cell_type": "code",
   "execution_count": 387,
   "metadata": {},
   "outputs": [
    {
     "name": "stdout",
     "output_type": "stream",
     "text": [
      "[9, 11, 12, 13, 14, 20, 23, 24, 25, 40]\n",
      "[11, 12, 13, 14, 20, 23, 24, 25]\n"
     ]
    }
   ],
   "source": [
    "# Exercise 12 - remove youngest and oldest age from list\n",
    "ages = [20, 24, 14, 9, 12, 13, 25, 23, 40, 11]\n",
    "\n",
    "# we try methods for reals. 1st, we sort. then we remove first and last with remove method\n",
    "ages.sort() #let's sort to see which are the youngest and oldest ages\n",
    "print(ages)\n",
    "\n",
    "ages.remove(9)  #remove the smallest and largest numbers\n",
    "ages.remove(40)\n",
    "print(ages)\n"
   ]
  },
  {
   "cell_type": "code",
   "execution_count": 388,
   "metadata": {},
   "outputs": [
    {
     "name": "stdout",
     "output_type": "stream",
     "text": [
      "[20, 24, 14, 9, 12, 13, 25, 23, 40, 11]\n"
     ]
    }
   ],
   "source": [
    "# Exercise 12 - remove youngest and oldest age from list\n",
    "ages = [20, 24, 14, 9, 12, 13, 25, 23, 40, 11]\n",
    "Oldest_and_youngest = [9, 40]\n",
    "\n",
    "# we try to remove the youngest and oldest with set method\n",
    "\n",
    "New_ages =  list((set(ages)) - set(Oldest_and_youngest))\n",
    "print(ages)\n"
   ]
  },
  {
   "cell_type": "code",
   "execution_count": 389,
   "metadata": {},
   "outputs": [
    {
     "name": "stdout",
     "output_type": "stream",
     "text": [
      "13\n",
      "15\n",
      "19\n",
      "18\n",
      "10\n",
      "16\n"
     ]
    }
   ],
   "source": [
    "# Exercise 13 - create another list with the common ages\n",
    "berlin = [15, 13, 16, 18, 19, 10, 12 ]\n",
    "munich = [7, 13, 15, 20, 19, 18, 10, 16]\n",
    "\n",
    "# Let's try a for loop\n",
    "for common in berlin and munich:\n",
    "    if common in berlin and munich:\n",
    "        print (common) # hooray... it prints, we did it. Just wrote it ourselves. Oh yea, oh yea, o..."
   ]
  },
  {
   "cell_type": "code",
   "execution_count": 390,
   "metadata": {},
   "outputs": [],
   "source": [
    "# Exercise 13 - create another list with the common ages \n",
    "\n",
    "# Let's try a different solution with is\n",
    "berlin = [15, 13, 16, 18, 19, 10, 12 ]\n",
    "munich = [7, 13, 15, 20, 19, 18, 10, 16]\n",
    "common = 0\n",
    "# Let's try a while loop\n",
    "while common in berlin and munich:\n",
    "    if common is berlin == munich:\n",
    "        print (common) # it doesn't print. Why?\n",
    "    n = n+1"
   ]
  },
  {
   "cell_type": "markdown",
   "metadata": {},
   "source": []
  },
  {
   "cell_type": "code",
   "execution_count": 391,
   "metadata": {},
   "outputs": [
    {
     "name": "stdout",
     "output_type": "stream",
     "text": [
      "{10, 13, 15, 16, 18, 19}\n"
     ]
    }
   ],
   "source": [
    "# Exercise 14 - remove duplicates\n",
    "\n",
    "the_list = [15,13,16,18,19,15,10]\n",
    "\n",
    "# convert to set to remove duplicates\n",
    "no_dup = set(the_list)\n",
    "print (no_dup)"
   ]
  },
  {
   "cell_type": "code",
   "execution_count": 392,
   "metadata": {},
   "outputs": [
    {
     "name": "stdout",
     "output_type": "stream",
     "text": [
      "[15, 13, 16, 18, 19, 10]\n"
     ]
    }
   ],
   "source": [
    "# Exercise 14 - remove duplicates \n",
    "\n",
    "# different solution - convert to dictionary\n",
    "no_dupli = dict.fromkeys(the_list)\n",
    "print(list(no_dupli)) # convert back to list"
   ]
  },
  {
   "cell_type": "code",
   "execution_count": 393,
   "metadata": {},
   "outputs": [
    {
     "name": "stdout",
     "output_type": "stream",
     "text": [
      " This is the list WITH duplicates: [15]\n",
      " This is the list without duplicates: [15, 13, 16, 18, 19, 10]\n"
     ]
    }
   ],
   "source": [
    "# Exercise 14 - remove duplicates \n",
    "\n",
    "# different solution - the lists\n",
    "the_list = [15,13,16,18,19,15,10]\n",
    "no_dups = []\n",
    "dups = []\n",
    "\n",
    "# for loop and append method\n",
    "for x in the_list:\n",
    "    if x not in no_dups:\n",
    "        no_dups.append(x)\n",
    "    else:\n",
    "        dups.append(x)\n",
    "print(\" This is the list WITH duplicates:\", dups)\n",
    "print(\" This is the list without duplicates:\", no_dups)\n",
    "\n",
    "# Learning, depending on where the print command is, it prints for every loop or just the summary.\n"
   ]
  },
  {
   "cell_type": "code",
   "execution_count": 394,
   "metadata": {},
   "outputs": [
    {
     "name": "stdout",
     "output_type": "stream",
     "text": [
      "The list after removing duplicates :  [15, 13, 16, 18, 19, 10]\n"
     ]
    }
   ],
   "source": [
    "# Exercise 14 - remove duplicates \n",
    "\n",
    "# Another different solution\n",
    "# Initializing the list\n",
    "the_list = [15,13,16,18,19,15,10]\n",
    "\n",
    "# using list comprehension\n",
    "noDups = [] # Question for Killian - without this? It returns, 6x none before creating a new list. why?\n",
    "[noDups.append(z) for z in the_list if z not in noDups] # I don't understand why this line works even without definition \"i.e. =\"\n",
    "print(\"The list after removing duplicates : \", noDups)"
   ]
  },
  {
   "cell_type": "code",
   "execution_count": 395,
   "metadata": {},
   "outputs": [
    {
     "name": "stdout",
     "output_type": "stream",
     "text": [
      "Welcome Evelyn, have a nice day!\n",
      "Welcome Jost, have a nice day!\n"
     ]
    }
   ],
   "source": [
    "# Execerise 15 - our first functions\n",
    "# writing a welcome function\n",
    "\n",
    "def welcome(fname):\n",
    "    print(\"Welcome\" + \" \" + fname + \",\" +  \" \" + \"have a nice day!\")\n",
    "\n",
    "welcome(\"Evelyn\")\n",
    "welcome(\"Jost\")"
   ]
  },
  {
   "cell_type": "code",
   "execution_count": 396,
   "metadata": {},
   "outputs": [
    {
     "name": "stdout",
     "output_type": "stream",
     "text": [
      "Welcome Pan, have a nice day!\n"
     ]
    }
   ],
   "source": [
    "# Exercise 15 -  but now let's add input. Cuz we do what we dooooo\n",
    "\n",
    "def welcome2(fname):\n",
    "    print(\"Welcome\" + \"\" + fname + \"\" + \"have a nice day!\")\n",
    "\n",
    "welcome(input(\"Your first name:\"))"
   ]
  },
  {
   "cell_type": "code",
   "execution_count": 397,
   "metadata": {},
   "outputs": [
    {
     "name": "stdout",
     "output_type": "stream",
     "text": [
      "5\n",
      "15\n"
     ]
    }
   ],
   "source": [
    "# Exercise 16 -  calculate the length of a string as input\n",
    "\n",
    "def get_length(anything):\n",
    "        print (len(anything))\n",
    "\n",
    "# call the function to get the length of a static input\n",
    "get_length (\"hello\") \n",
    "\n",
    "# call the function to get the length of any input\n",
    "get_length((input(\"Check length of any word\")))"
   ]
  },
  {
   "cell_type": "code",
   "execution_count": 398,
   "metadata": {},
   "outputs": [
    {
     "name": "stdout",
     "output_type": "stream",
     "text": [
      "waaaabawaaaaweeeeeeeza, is 22 characters long\n"
     ]
    }
   ],
   "source": [
    "# Exercise 16 -  now we want to print the input and calculate the length of that input\n",
    "\n",
    "def get_length(anything):\n",
    "        print (anything +\",\", \"is\", len(anything), \"characters long\")\n",
    "\n",
    "# call the function to get the length of any input\n",
    "get_length (input(\"Check length of any word:\"))\n"
   ]
  },
  {
   "cell_type": "code",
   "execution_count": 399,
   "metadata": {},
   "outputs": [
    {
     "name": "stdout",
     "output_type": "stream",
     "text": [
      "Yes\n"
     ]
    }
   ],
   "source": [
    "#Exercise 17 - check for even number\n",
    "# with the modulus operator\n",
    "\n",
    "def check_even(number):\n",
    "    if int(number) % 2 == 0:\n",
    "        print (\"Yes\")\n",
    "    else:\n",
    "        print (\"No, you dumb dumb. Boooi please. Who born you?\")\n",
    "check_even(input(\"Check whether the number is odd or even:\"))"
   ]
  },
  {
   "cell_type": "code",
   "execution_count": 407,
   "metadata": {},
   "outputs": [
    {
     "name": "stdout",
     "output_type": "stream",
     "text": [
      "Yes\n"
     ]
    }
   ],
   "source": [
    "#Exercise 17 - check for even number\n",
    "# Let's add complexity. Can we make it only accept numerical entries?\n",
    "\n",
    "\n",
    "def check_even(number):\n",
    "    if int(number) % 2 == 0:\n",
    "        print (\"Yes\")\n",
    "    elif int(number):\n",
    "        print (\"This is not a number, you stupid!\")        \n",
    "    else: \n",
    "        print (\"No, the number you entered is not an even number\")\n",
    "check_even(int(input(\"Check whether the number is odd or even:\")))"
   ]
  },
  {
   "cell_type": "code",
   "execution_count": 401,
   "metadata": {},
   "outputs": [
    {
     "name": "stdout",
     "output_type": "stream",
     "text": [
      "Bob is 23\n",
      "Jack is 27\n",
      "Lisa is 17\n",
      "Maria is 12\n",
      "Ben is 15\n",
      "Emma is 16\n",
      "Oscar is 28\n",
      "Amy is 26\n",
      "Paul is 43\n",
      "Etta is 14\n"
     ]
    }
   ],
   "source": [
    "# Example 18 - Rewrite Exercise 11 in a function. \n",
    "# Iterate over the list and print the name and age of each customer.\n",
    "\n",
    "def customers_age(customers):\n",
    "    for person in customers:\n",
    "        from datetime import datetime\n",
    "        current_year = datetime.now().year\n",
    "        print(person[\"name\"], \"is\", current_year - person[\"age\"])\n",
    "\n",
    "# Initialising list\n",
    "customer_list = [\n",
    "                    {\"name\": \"Bob\", \"age\": 1999},\n",
    "                    {\"name\": \"Jack\", \"age\": 1995},\n",
    "                    {\"name\": \"Lisa\", \"age\": 2005},\n",
    "                    {\"name\": \"Maria\", \"age\": 2010},\n",
    "                    {\"name\": \"Ben\", \"age\": 2007},\n",
    "                    {\"name\": \"Emma\", \"age\": 2006},\n",
    "                    {\"name\": \"Oscar\", \"age\": 1994},\n",
    "                    {\"name\": \"Amy\", \"age\": 1996},\n",
    "                    {\"name\": \"Paul\", \"age\": 1979},\n",
    "                    {\"name\": \"Etta\", \"age\": 2008}\n",
    "                ]\n",
    "\n",
    "customers_age(customer_list)\n",
    "\n"
   ]
  },
  {
   "cell_type": "code",
   "execution_count": 402,
   "metadata": {},
   "outputs": [
    {
     "name": "stdout",
     "output_type": "stream",
     "text": [
      "[11, 12, 13, 14, 20, 23, 24, 25]\n"
     ]
    }
   ],
   "source": [
    "# # Example 18 - Rewrite Exercise 12 in a function.\n",
    "# Given a list of ages, remove the youngest and the oldest person without max() and min() methods.\n",
    "\n",
    "def youngest_oldest(list):\n",
    "    for X in list:\n",
    "        list.sort()\n",
    "    del list[0]  \n",
    "    del list[-1]\n",
    "    print(list)\n",
    "\n",
    "#initialising list\n",
    "ages = [20, 24, 14, 9, 12, 13, 25, 23, 40, 11]\n",
    "\n",
    "\n",
    "youngest_oldest(ages)"
   ]
  },
  {
   "cell_type": "code",
   "execution_count": 403,
   "metadata": {},
   "outputs": [
    {
     "data": {
      "text/plain": [
       "[15, 13, 16, 18, 19, 10]"
      ]
     },
     "execution_count": 403,
     "metadata": {},
     "output_type": "execute_result"
    }
   ],
   "source": [
    "# Example 18 - Rewrite Exercise 13 in a function. \n",
    "# create another list with the common ages from two lists\n",
    "\n",
    "def common_ages (list1, list2):\n",
    "        common = [age for age in list1 if age in list2]\n",
    "        return common #mistake, I was not returning the body\n",
    "\n",
    "# Let's get the lists ready\n",
    "berlin = [15, 13, 16, 18, 19, 10, 12 ]\n",
    "munich = [7, 13, 15, 20, 19, 18, 10, 16]\n",
    "\n",
    "common_ages(berlin, munich)\n",
    "\n"
   ]
  },
  {
   "cell_type": "code",
   "execution_count": 27,
   "metadata": {},
   "outputs": [],
   "source": [
    "%reset"
   ]
  },
  {
   "cell_type": "code",
   "execution_count": 508,
   "metadata": {},
   "outputs": [
    {
     "data": {
      "text/plain": [
       "[10, 13, 15, 16, 18, 19]"
      ]
     },
     "execution_count": 508,
     "metadata": {},
     "output_type": "execute_result"
    }
   ],
   "source": [
    "# Example 18 - Rewrite Exercise 14 in a function.\n",
    "# Remove the duplicates.\n",
    " \n",
    "def no_duplicates(input_list):\n",
    "   clean_list = list(set(input_list))\n",
    "   return clean_list\n",
    "\n",
    "# initialize the list\n",
    "age_list = [15,13,16,18,19,15,10]\n",
    "\n",
    "no_duplicates(age_list)"
   ]
  },
  {
   "cell_type": "code",
   "execution_count": 405,
   "metadata": {},
   "outputs": [
    {
     "name": "stdout",
     "output_type": "stream",
     "text": [
      "true 10 in listly\n",
      "true 13 in listly\n",
      "true 15 in listly\n",
      "false 33 is not in listly\n",
      "false 55 is not in listly\n",
      "false 66 is not in listly\n",
      "false 88 is not in listly\n",
      "false 44 is not in listly\n"
     ]
    }
   ],
   "source": [
    "# Exercise 19\n",
    "# True or false - verify age - simple step\n",
    "\n",
    "def verify_age(Q):\n",
    "    listly = [10, 13, 15, 33, 55, 66, 88, 44]\n",
    "    for age in listly:\n",
    "        if age in Q:\n",
    "            print(\"true\", age, \"in listly\")\n",
    "        else:\n",
    "            print(\"false\", age, \"is not in listly\")\n",
    "\n",
    "\n",
    "#input list\n",
    "age_list = [15,13,16,18,19,15,10]\n",
    "\n",
    "verify_age(age_list)"
   ]
  },
  {
   "cell_type": "code",
   "execution_count": 18,
   "metadata": {},
   "outputs": [
    {
     "data": {
      "text/plain": [
       "False"
      ]
     },
     "execution_count": 18,
     "metadata": {},
     "output_type": "execute_result"
    }
   ],
   "source": [
    "# Exercise 19 \n",
    "# Is that age in the list? True or false - verify age value\n",
    "\n",
    "def verify(list):\n",
    "    cus_dict2 = [{\"name\": \"Bob\", \"age\": 23},{\"name\": \"Jack\", \"age\": 24}]\n",
    "\n",
    "    for age in list:\n",
    "        return age in cus_dict2\n",
    "       \n",
    "cus_dict1 = [{\"name\": \"Bob\", \"age\": 24},{\"name\": \"Jack\", \"age\": 24}]\n",
    "\n",
    "verify(cus_dict1)"
   ]
  },
  {
   "cell_type": "code",
   "execution_count": null,
   "metadata": {},
   "outputs": [],
   "source": []
  }
 ],
 "metadata": {
  "kernelspec": {
   "display_name": "Python 3.9.12 ('base': conda)",
   "language": "python",
   "name": "python3"
  },
  "language_info": {
   "codemirror_mode": {
    "name": "ipython",
    "version": 3
   },
   "file_extension": ".py",
   "mimetype": "text/x-python",
   "name": "python",
   "nbconvert_exporter": "python",
   "pygments_lexer": "ipython3",
   "version": "3.9.12"
  },
  "orig_nbformat": 4,
  "vscode": {
   "interpreter": {
    "hash": "2ec1a45370635f262e5b512ff7193f53a88dc102a83db2540dace0f9e4b4c65b"
   }
  }
 },
 "nbformat": 4,
 "nbformat_minor": 2
}
